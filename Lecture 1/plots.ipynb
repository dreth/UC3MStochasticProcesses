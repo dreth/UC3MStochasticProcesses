{
 "cells": [
  {
   "cell_type": "code",
   "execution_count": 3,
   "metadata": {},
   "outputs": [],
   "source": [
    "library(ggplot2)"
   ]
  },
  {
   "cell_type": "code",
   "execution_count": 6,
   "metadata": {},
   "outputs": [],
   "source": [
    "Traj_X <- data.frame()\n",
    "Traj_Y <- data.frame()\n",
    "for (k in 1:100) {\n",
    "    X <- data.frame(x=1:1000,val=rep(0,1000),run=rep(k,1000))\n",
    "    Y <- data.frame(x=1:1000,val=rep(0,1000),run=rep(k,1000))\n",
    "    X_r <- rep(0,1000)\n",
    "    Y_r <- rep(0,1000)\n",
    "    for (i in 1:1000) {\n",
    "        if (i > 1) {\n",
    "            X_r[i] <- 0.5*X_r[i-1]+rnorm(1)\n",
    "            Y_r[i] <- 2*Y_r[i-1]+rnorm(1)\n",
    "        }\n",
    "    }\n",
    "    X$val <- X_r\n",
    "    Y$val <- Y_r\n",
    "    Traj_X <- rbind(Traj_X, X)\n",
    "    Traj_Y <- rbind(Traj_Y, Y)\n",
    "}"
   ]
  },
  {
   "cell_type": "code",
   "execution_count": 7,
   "metadata": {},
   "outputs": [],
   "source": [
    "ggplot(data = Traj_X, aes(x=x, y=val)) +\n",
    "    geom_line(aes(colour=run), show.legend=FALSE)"
   ]
  },
  {
   "cell_type": "code",
   "execution_count": 12,
   "metadata": {},
   "outputs": [],
   "source": [
    "df <- data.frame(x=c(), val=c(), \n",
    "                   variable=c())"
   ]
  },
  {
   "cell_type": "code",
   "execution_count": 16,
   "metadata": {},
   "outputs": [
    {
     "data": {
      "text/plain": "NULL"
     },
     "metadata": {},
     "output_type": "display_data"
    }
   ],
   "source": [
    "df$val"
   ]
  },
  {
   "cell_type": "code",
   "execution_count": 84,
   "metadata": {},
   "outputs": [
    {
     "data": {
      "text/html": "<table>\n<caption>A data.frame: 100000 × 3</caption>\n<thead>\n\t<tr><th scope=col>x</th><th scope=col>val</th><th scope=col>run</th></tr>\n\t<tr><th scope=col>&lt;int&gt;</th><th scope=col>&lt;dbl&gt;</th><th scope=col>&lt;chr&gt;</th></tr>\n</thead>\n<tbody>\n\t<tr><td> 1</td><td> 0.000000e+00</td><td>run 1</td></tr>\n\t<tr><td> 2</td><td> 4.610092e-01</td><td>run 1</td></tr>\n\t<tr><td> 3</td><td>-2.222376e-01</td><td>run 1</td></tr>\n\t<tr><td> 4</td><td>-1.163120e+00</td><td>run 1</td></tr>\n\t<tr><td> 5</td><td>-2.290461e+00</td><td>run 1</td></tr>\n\t<tr><td> 6</td><td>-4.635434e+00</td><td>run 1</td></tr>\n\t<tr><td> 7</td><td>-1.149718e+01</td><td>run 1</td></tr>\n\t<tr><td> 8</td><td>-2.223117e+01</td><td>run 1</td></tr>\n\t<tr><td> 9</td><td>-4.277209e+01</td><td>run 1</td></tr>\n\t<tr><td>10</td><td>-8.571722e+01</td><td>run 1</td></tr>\n\t<tr><td>11</td><td>-1.717323e+02</td><td>run 1</td></tr>\n\t<tr><td>12</td><td>-3.424630e+02</td><td>run 1</td></tr>\n\t<tr><td>13</td><td>-6.858318e+02</td><td>run 1</td></tr>\n\t<tr><td>14</td><td>-1.372580e+03</td><td>run 1</td></tr>\n\t<tr><td>15</td><td>-2.746311e+03</td><td>run 1</td></tr>\n\t<tr><td>16</td><td>-5.492756e+03</td><td>run 1</td></tr>\n\t<tr><td>17</td><td>-1.098623e+04</td><td>run 1</td></tr>\n\t<tr><td>18</td><td>-2.197337e+04</td><td>run 1</td></tr>\n\t<tr><td>19</td><td>-4.394841e+04</td><td>run 1</td></tr>\n\t<tr><td>20</td><td>-8.789809e+04</td><td>run 1</td></tr>\n\t<tr><td>21</td><td>-1.757962e+05</td><td>run 1</td></tr>\n\t<tr><td>22</td><td>-3.515933e+05</td><td>run 1</td></tr>\n\t<tr><td>23</td><td>-7.031857e+05</td><td>run 1</td></tr>\n\t<tr><td>24</td><td>-1.406370e+06</td><td>run 1</td></tr>\n\t<tr><td>25</td><td>-2.812740e+06</td><td>run 1</td></tr>\n\t<tr><td>26</td><td>-5.625482e+06</td><td>run 1</td></tr>\n\t<tr><td>27</td><td>-1.125096e+07</td><td>run 1</td></tr>\n\t<tr><td>28</td><td>-2.250193e+07</td><td>run 1</td></tr>\n\t<tr><td>29</td><td>-4.500385e+07</td><td>run 1</td></tr>\n\t<tr><td>30</td><td>-9.000771e+07</td><td>run 1</td></tr>\n\t<tr><td>⋮</td><td>⋮</td><td>⋮</td></tr>\n\t<tr><td> 971</td><td>1.790752e+291</td><td>run 100</td></tr>\n\t<tr><td> 972</td><td>3.581504e+291</td><td>run 100</td></tr>\n\t<tr><td> 973</td><td>7.163008e+291</td><td>run 100</td></tr>\n\t<tr><td> 974</td><td>1.432602e+292</td><td>run 100</td></tr>\n\t<tr><td> 975</td><td>2.865203e+292</td><td>run 100</td></tr>\n\t<tr><td> 976</td><td>5.730407e+292</td><td>run 100</td></tr>\n\t<tr><td> 977</td><td>1.146081e+293</td><td>run 100</td></tr>\n\t<tr><td> 978</td><td>2.292163e+293</td><td>run 100</td></tr>\n\t<tr><td> 979</td><td>4.584325e+293</td><td>run 100</td></tr>\n\t<tr><td> 980</td><td>9.168651e+293</td><td>run 100</td></tr>\n\t<tr><td> 981</td><td>1.833730e+294</td><td>run 100</td></tr>\n\t<tr><td> 982</td><td>3.667460e+294</td><td>run 100</td></tr>\n\t<tr><td> 983</td><td>7.334921e+294</td><td>run 100</td></tr>\n\t<tr><td> 984</td><td>1.466984e+295</td><td>run 100</td></tr>\n\t<tr><td> 985</td><td>2.933968e+295</td><td>run 100</td></tr>\n\t<tr><td> 986</td><td>5.867936e+295</td><td>run 100</td></tr>\n\t<tr><td> 987</td><td>1.173587e+296</td><td>run 100</td></tr>\n\t<tr><td> 988</td><td>2.347175e+296</td><td>run 100</td></tr>\n\t<tr><td> 989</td><td>4.694349e+296</td><td>run 100</td></tr>\n\t<tr><td> 990</td><td>9.388698e+296</td><td>run 100</td></tr>\n\t<tr><td> 991</td><td>1.877740e+297</td><td>run 100</td></tr>\n\t<tr><td> 992</td><td>3.755479e+297</td><td>run 100</td></tr>\n\t<tr><td> 993</td><td>7.510959e+297</td><td>run 100</td></tr>\n\t<tr><td> 994</td><td>1.502192e+298</td><td>run 100</td></tr>\n\t<tr><td> 995</td><td>3.004383e+298</td><td>run 100</td></tr>\n\t<tr><td> 996</td><td>6.008767e+298</td><td>run 100</td></tr>\n\t<tr><td> 997</td><td>1.201753e+299</td><td>run 100</td></tr>\n\t<tr><td> 998</td><td>2.403507e+299</td><td>run 100</td></tr>\n\t<tr><td> 999</td><td>4.807014e+299</td><td>run 100</td></tr>\n\t<tr><td>1000</td><td>9.614027e+299</td><td>run 100</td></tr>\n</tbody>\n</table>\n",
      "text/latex": "A data.frame: 100000 × 3\n\\begin{tabular}{lll}\n x & val & run\\\\\n <int> & <dbl> & <chr>\\\\\n\\hline\n\t  1 &  0.000000e+00 & run 1\\\\\n\t  2 &  4.610092e-01 & run 1\\\\\n\t  3 & -2.222376e-01 & run 1\\\\\n\t  4 & -1.163120e+00 & run 1\\\\\n\t  5 & -2.290461e+00 & run 1\\\\\n\t  6 & -4.635434e+00 & run 1\\\\\n\t  7 & -1.149718e+01 & run 1\\\\\n\t  8 & -2.223117e+01 & run 1\\\\\n\t  9 & -4.277209e+01 & run 1\\\\\n\t 10 & -8.571722e+01 & run 1\\\\\n\t 11 & -1.717323e+02 & run 1\\\\\n\t 12 & -3.424630e+02 & run 1\\\\\n\t 13 & -6.858318e+02 & run 1\\\\\n\t 14 & -1.372580e+03 & run 1\\\\\n\t 15 & -2.746311e+03 & run 1\\\\\n\t 16 & -5.492756e+03 & run 1\\\\\n\t 17 & -1.098623e+04 & run 1\\\\\n\t 18 & -2.197337e+04 & run 1\\\\\n\t 19 & -4.394841e+04 & run 1\\\\\n\t 20 & -8.789809e+04 & run 1\\\\\n\t 21 & -1.757962e+05 & run 1\\\\\n\t 22 & -3.515933e+05 & run 1\\\\\n\t 23 & -7.031857e+05 & run 1\\\\\n\t 24 & -1.406370e+06 & run 1\\\\\n\t 25 & -2.812740e+06 & run 1\\\\\n\t 26 & -5.625482e+06 & run 1\\\\\n\t 27 & -1.125096e+07 & run 1\\\\\n\t 28 & -2.250193e+07 & run 1\\\\\n\t 29 & -4.500385e+07 & run 1\\\\\n\t 30 & -9.000771e+07 & run 1\\\\\n\t ⋮ & ⋮ & ⋮\\\\\n\t  971 & 1.790752e+291 & run 100\\\\\n\t  972 & 3.581504e+291 & run 100\\\\\n\t  973 & 7.163008e+291 & run 100\\\\\n\t  974 & 1.432602e+292 & run 100\\\\\n\t  975 & 2.865203e+292 & run 100\\\\\n\t  976 & 5.730407e+292 & run 100\\\\\n\t  977 & 1.146081e+293 & run 100\\\\\n\t  978 & 2.292163e+293 & run 100\\\\\n\t  979 & 4.584325e+293 & run 100\\\\\n\t  980 & 9.168651e+293 & run 100\\\\\n\t  981 & 1.833730e+294 & run 100\\\\\n\t  982 & 3.667460e+294 & run 100\\\\\n\t  983 & 7.334921e+294 & run 100\\\\\n\t  984 & 1.466984e+295 & run 100\\\\\n\t  985 & 2.933968e+295 & run 100\\\\\n\t  986 & 5.867936e+295 & run 100\\\\\n\t  987 & 1.173587e+296 & run 100\\\\\n\t  988 & 2.347175e+296 & run 100\\\\\n\t  989 & 4.694349e+296 & run 100\\\\\n\t  990 & 9.388698e+296 & run 100\\\\\n\t  991 & 1.877740e+297 & run 100\\\\\n\t  992 & 3.755479e+297 & run 100\\\\\n\t  993 & 7.510959e+297 & run 100\\\\\n\t  994 & 1.502192e+298 & run 100\\\\\n\t  995 & 3.004383e+298 & run 100\\\\\n\t  996 & 6.008767e+298 & run 100\\\\\n\t  997 & 1.201753e+299 & run 100\\\\\n\t  998 & 2.403507e+299 & run 100\\\\\n\t  999 & 4.807014e+299 & run 100\\\\\n\t 1000 & 9.614027e+299 & run 100\\\\\n\\end{tabular}\n",
      "text/markdown": "\nA data.frame: 100000 × 3\n\n| x &lt;int&gt; | val &lt;dbl&gt; | run &lt;chr&gt; |\n|---|---|---|\n|  1 |  0.000000e+00 | run 1 |\n|  2 |  4.610092e-01 | run 1 |\n|  3 | -2.222376e-01 | run 1 |\n|  4 | -1.163120e+00 | run 1 |\n|  5 | -2.290461e+00 | run 1 |\n|  6 | -4.635434e+00 | run 1 |\n|  7 | -1.149718e+01 | run 1 |\n|  8 | -2.223117e+01 | run 1 |\n|  9 | -4.277209e+01 | run 1 |\n| 10 | -8.571722e+01 | run 1 |\n| 11 | -1.717323e+02 | run 1 |\n| 12 | -3.424630e+02 | run 1 |\n| 13 | -6.858318e+02 | run 1 |\n| 14 | -1.372580e+03 | run 1 |\n| 15 | -2.746311e+03 | run 1 |\n| 16 | -5.492756e+03 | run 1 |\n| 17 | -1.098623e+04 | run 1 |\n| 18 | -2.197337e+04 | run 1 |\n| 19 | -4.394841e+04 | run 1 |\n| 20 | -8.789809e+04 | run 1 |\n| 21 | -1.757962e+05 | run 1 |\n| 22 | -3.515933e+05 | run 1 |\n| 23 | -7.031857e+05 | run 1 |\n| 24 | -1.406370e+06 | run 1 |\n| 25 | -2.812740e+06 | run 1 |\n| 26 | -5.625482e+06 | run 1 |\n| 27 | -1.125096e+07 | run 1 |\n| 28 | -2.250193e+07 | run 1 |\n| 29 | -4.500385e+07 | run 1 |\n| 30 | -9.000771e+07 | run 1 |\n| ⋮ | ⋮ | ⋮ |\n|  971 | 1.790752e+291 | run 100 |\n|  972 | 3.581504e+291 | run 100 |\n|  973 | 7.163008e+291 | run 100 |\n|  974 | 1.432602e+292 | run 100 |\n|  975 | 2.865203e+292 | run 100 |\n|  976 | 5.730407e+292 | run 100 |\n|  977 | 1.146081e+293 | run 100 |\n|  978 | 2.292163e+293 | run 100 |\n|  979 | 4.584325e+293 | run 100 |\n|  980 | 9.168651e+293 | run 100 |\n|  981 | 1.833730e+294 | run 100 |\n|  982 | 3.667460e+294 | run 100 |\n|  983 | 7.334921e+294 | run 100 |\n|  984 | 1.466984e+295 | run 100 |\n|  985 | 2.933968e+295 | run 100 |\n|  986 | 5.867936e+295 | run 100 |\n|  987 | 1.173587e+296 | run 100 |\n|  988 | 2.347175e+296 | run 100 |\n|  989 | 4.694349e+296 | run 100 |\n|  990 | 9.388698e+296 | run 100 |\n|  991 | 1.877740e+297 | run 100 |\n|  992 | 3.755479e+297 | run 100 |\n|  993 | 7.510959e+297 | run 100 |\n|  994 | 1.502192e+298 | run 100 |\n|  995 | 3.004383e+298 | run 100 |\n|  996 | 6.008767e+298 | run 100 |\n|  997 | 1.201753e+299 | run 100 |\n|  998 | 2.403507e+299 | run 100 |\n|  999 | 4.807014e+299 | run 100 |\n| 1000 | 9.614027e+299 | run 100 |\n\n",
      "text/plain": "       x    val           run    \n1       1    0.000000e+00 run 1  \n2       2    4.610092e-01 run 1  \n3       3   -2.222376e-01 run 1  \n4       4   -1.163120e+00 run 1  \n5       5   -2.290461e+00 run 1  \n6       6   -4.635434e+00 run 1  \n7       7   -1.149718e+01 run 1  \n8       8   -2.223117e+01 run 1  \n9       9   -4.277209e+01 run 1  \n10     10   -8.571722e+01 run 1  \n11     11   -1.717323e+02 run 1  \n12     12   -3.424630e+02 run 1  \n13     13   -6.858318e+02 run 1  \n14     14   -1.372580e+03 run 1  \n15     15   -2.746311e+03 run 1  \n16     16   -5.492756e+03 run 1  \n17     17   -1.098623e+04 run 1  \n18     18   -2.197337e+04 run 1  \n19     19   -4.394841e+04 run 1  \n20     20   -8.789809e+04 run 1  \n21     21   -1.757962e+05 run 1  \n22     22   -3.515933e+05 run 1  \n23     23   -7.031857e+05 run 1  \n24     24   -1.406370e+06 run 1  \n25     25   -2.812740e+06 run 1  \n26     26   -5.625482e+06 run 1  \n27     27   -1.125096e+07 run 1  \n28     28   -2.250193e+07 run 1  \n29     29   -4.500385e+07 run 1  \n30     30   -9.000771e+07 run 1  \n⋮      ⋮    ⋮             ⋮      \n99971   971 1.790752e+291 run 100\n99972   972 3.581504e+291 run 100\n99973   973 7.163008e+291 run 100\n99974   974 1.432602e+292 run 100\n99975   975 2.865203e+292 run 100\n99976   976 5.730407e+292 run 100\n99977   977 1.146081e+293 run 100\n99978   978 2.292163e+293 run 100\n99979   979 4.584325e+293 run 100\n99980   980 9.168651e+293 run 100\n99981   981 1.833730e+294 run 100\n99982   982 3.667460e+294 run 100\n99983   983 7.334921e+294 run 100\n99984   984 1.466984e+295 run 100\n99985   985 2.933968e+295 run 100\n99986   986 5.867936e+295 run 100\n99987   987 1.173587e+296 run 100\n99988   988 2.347175e+296 run 100\n99989   989 4.694349e+296 run 100\n99990   990 9.388698e+296 run 100\n99991   991 1.877740e+297 run 100\n99992   992 3.755479e+297 run 100\n99993   993 7.510959e+297 run 100\n99994   994 1.502192e+298 run 100\n99995   995 3.004383e+298 run 100\n99996   996 6.008767e+298 run 100\n99997   997 1.201753e+299 run 100\n99998   998 2.403507e+299 run 100\n99999   999 4.807014e+299 run 100\n100000 1000 9.614027e+299 run 100"
     },
     "metadata": {},
     "output_type": "display_data"
    }
   ],
   "source": [
    "Traj_Y"
   ]
  },
  {
   "cell_type": "code",
   "execution_count": null,
   "metadata": {},
   "outputs": [],
   "source": []
  }
 ],
 "metadata": {
  "kernelspec": {
   "display_name": "R",
   "name": "ir"
  },
  "language_info": {
   "codemirror_mode": "r",
   "file_extension": ".r",
   "mimetype": "text/x-r-source",
   "name": "R",
   "pygments_lexer": "r",
   "version": "4.0.3"
  },
  "orig_nbformat": 2
 },
 "nbformat": 4,
 "nbformat_minor": 2
}